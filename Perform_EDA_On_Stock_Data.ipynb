{
  "nbformat": 4,
  "nbformat_minor": 0,
  "metadata": {
    "colab": {
      "name": "Perform EDA  On Stock_Data.ipynb",
      "provenance": [],
      "authorship_tag": "ABX9TyPtbGO2GTGgmN+d/zZXV1oU",
      "include_colab_link": true
    },
    "kernelspec": {
      "name": "python3",
      "display_name": "Python 3"
    },
    "language_info": {
      "name": "python"
    }
  },
  "cells": [
    {
      "cell_type": "markdown",
      "metadata": {
        "id": "view-in-github",
        "colab_type": "text"
      },
      "source": [
        "<a href=\"https://colab.research.google.com/github/ArshCoder/BluePrint/blob/ArshCoder-patch-1/Perform_EDA_On_Stock_Data.ipynb\" target=\"_parent\"><img src=\"https://colab.research.google.com/assets/colab-badge.svg\" alt=\"Open In Colab\"/></a>"
      ]
    },
    {
      "cell_type": "markdown",
      "metadata": {
        "id": "ONDuZVBvRt_i"
      },
      "source": [
        "#**Exploratory Data Analysis for Stock data of (MSFT,AMZN,APPLE,IBM,TSLA)** \n",
        "## By: Arshjeet Barkade\n"
      ]
    },
    {
      "cell_type": "markdown",
      "metadata": {
        "id": "Fk0sHPfJSV9_"
      },
      "source": [
        "# **Performing EDA on Apple_Stock_Data Of Last Six Months**"
      ]
    },
    {
      "cell_type": "code",
      "metadata": {
        "id": "OQ38ZDWqX5Bz"
      },
      "source": [
        "import pandas as pd\n",
        "import seaborn as sns\n",
        "import matplotlib.pyplot as plt\n"
      ],
      "execution_count": 1,
      "outputs": []
    },
    {
      "cell_type": "code",
      "metadata": {
        "id": "-69MFLghX-a4"
      },
      "source": [
        "AAPL_df = pd.read_csv('AAPL.csv')\n"
      ],
      "execution_count": 2,
      "outputs": []
    },
    {
      "cell_type": "code",
      "metadata": {
        "colab": {
          "base_uri": "https://localhost:8080/",
          "height": 203
        },
        "id": "99fpnEM1YRD8",
        "outputId": "9f86fd76-2313-4804-b7ab-876e359dd29d"
      },
      "source": [
        "AAPL_df.head()"
      ],
      "execution_count": 3,
      "outputs": [
        {
          "output_type": "execute_result",
          "data": {
            "text/html": [
              "<div>\n",
              "<style scoped>\n",
              "    .dataframe tbody tr th:only-of-type {\n",
              "        vertical-align: middle;\n",
              "    }\n",
              "\n",
              "    .dataframe tbody tr th {\n",
              "        vertical-align: top;\n",
              "    }\n",
              "\n",
              "    .dataframe thead th {\n",
              "        text-align: right;\n",
              "    }\n",
              "</style>\n",
              "<table border=\"1\" class=\"dataframe\">\n",
              "  <thead>\n",
              "    <tr style=\"text-align: right;\">\n",
              "      <th></th>\n",
              "      <th>Date</th>\n",
              "      <th>Open</th>\n",
              "      <th>High</th>\n",
              "      <th>Low</th>\n",
              "      <th>Close</th>\n",
              "    </tr>\n",
              "  </thead>\n",
              "  <tbody>\n",
              "    <tr>\n",
              "      <th>0</th>\n",
              "      <td>29-03-2021</td>\n",
              "      <td>121.650002</td>\n",
              "      <td>124.180000</td>\n",
              "      <td>118.860001</td>\n",
              "      <td>123.000000</td>\n",
              "    </tr>\n",
              "    <tr>\n",
              "      <th>1</th>\n",
              "      <td>05-04-2021</td>\n",
              "      <td>123.870003</td>\n",
              "      <td>133.039993</td>\n",
              "      <td>123.070000</td>\n",
              "      <td>133.000000</td>\n",
              "    </tr>\n",
              "    <tr>\n",
              "      <th>2</th>\n",
              "      <td>12-04-2021</td>\n",
              "      <td>132.520004</td>\n",
              "      <td>135.000000</td>\n",
              "      <td>130.630005</td>\n",
              "      <td>134.160004</td>\n",
              "    </tr>\n",
              "    <tr>\n",
              "      <th>3</th>\n",
              "      <td>19-04-2021</td>\n",
              "      <td>133.509995</td>\n",
              "      <td>135.529999</td>\n",
              "      <td>131.300003</td>\n",
              "      <td>134.320007</td>\n",
              "    </tr>\n",
              "    <tr>\n",
              "      <th>4</th>\n",
              "      <td>26-04-2021</td>\n",
              "      <td>134.830002</td>\n",
              "      <td>137.070007</td>\n",
              "      <td>131.070007</td>\n",
              "      <td>131.460007</td>\n",
              "    </tr>\n",
              "  </tbody>\n",
              "</table>\n",
              "</div>"
            ],
            "text/plain": [
              "         Date        Open        High         Low       Close\n",
              "0  29-03-2021  121.650002  124.180000  118.860001  123.000000\n",
              "1  05-04-2021  123.870003  133.039993  123.070000  133.000000\n",
              "2  12-04-2021  132.520004  135.000000  130.630005  134.160004\n",
              "3  19-04-2021  133.509995  135.529999  131.300003  134.320007\n",
              "4  26-04-2021  134.830002  137.070007  131.070007  131.460007"
            ]
          },
          "metadata": {},
          "execution_count": 3
        }
      ]
    },
    {
      "cell_type": "code",
      "metadata": {
        "id": "92Q_sTvWYZJU",
        "colab": {
          "base_uri": "https://localhost:8080/"
        },
        "outputId": "91be605f-644b-4d0b-fcb5-2f6347a36ce3"
      },
      "source": [
        "AAPL_df.info()"
      ],
      "execution_count": 4,
      "outputs": [
        {
          "output_type": "stream",
          "name": "stdout",
          "text": [
            "<class 'pandas.core.frame.DataFrame'>\n",
            "RangeIndex: 28 entries, 0 to 27\n",
            "Data columns (total 5 columns):\n",
            " #   Column  Non-Null Count  Dtype  \n",
            "---  ------  --------------  -----  \n",
            " 0   Date    28 non-null     object \n",
            " 1   Open    28 non-null     float64\n",
            " 2   High    28 non-null     float64\n",
            " 3   Low     28 non-null     float64\n",
            " 4   Close   28 non-null     float64\n",
            "dtypes: float64(4), object(1)\n",
            "memory usage: 1.2+ KB\n"
          ]
        }
      ]
    },
    {
      "cell_type": "code",
      "metadata": {
        "id": "_nvwkXgFZE1Q",
        "colab": {
          "base_uri": "https://localhost:8080/"
        },
        "outputId": "d4838cd1-8136-4a19-ba90-ff139f90db54"
      },
      "source": [
        "AAPL_df.dtypes"
      ],
      "execution_count": 5,
      "outputs": [
        {
          "output_type": "execute_result",
          "data": {
            "text/plain": [
              "Date      object\n",
              "Open     float64\n",
              "High     float64\n",
              "Low      float64\n",
              "Close    float64\n",
              "dtype: object"
            ]
          },
          "metadata": {},
          "execution_count": 5
        }
      ]
    },
    {
      "cell_type": "code",
      "metadata": {
        "id": "iQLstAGlZRTp",
        "colab": {
          "base_uri": "https://localhost:8080/"
        },
        "outputId": "238e400d-3475-4908-9fac-569513984971"
      },
      "source": [
        "AAPL_df.count() "
      ],
      "execution_count": 6,
      "outputs": [
        {
          "output_type": "execute_result",
          "data": {
            "text/plain": [
              "Date     28\n",
              "Open     28\n",
              "High     28\n",
              "Low      28\n",
              "Close    28\n",
              "dtype: int64"
            ]
          },
          "metadata": {},
          "execution_count": 6
        }
      ]
    },
    {
      "cell_type": "markdown",
      "metadata": {
        "id": "fuayMe18RQtu"
      },
      "source": [
        "# **Splitting \"Date\" cloumn into (day,month,and year)**\n",
        "\n",
        "\n"
      ]
    },
    {
      "cell_type": "code",
      "metadata": {
        "id": "aXWjlZMiaBqF"
      },
      "source": [
        "AAPL_df[\"day\"] = AAPL_df['Date'].map(lambda x: pd.to_datetime(x).day)\n",
        "AAPL_df[\"month\"] = AAPL_df['Date'].map(lambda x: pd.to_datetime(x).month)\n",
        "AAPL_df[\"year\"] = AAPL_df['Date'].map(lambda x: pd.to_datetime(x).year)"
      ],
      "execution_count": 7,
      "outputs": []
    },
    {
      "cell_type": "code",
      "metadata": {
        "colab": {
          "base_uri": "https://localhost:8080/",
          "height": 203
        },
        "id": "wAPheplwfXgE",
        "outputId": "ac56c359-a195-4f0d-cc8f-5f72f0153e9b"
      },
      "source": [
        "AAPL_df.head()"
      ],
      "execution_count": 8,
      "outputs": [
        {
          "output_type": "execute_result",
          "data": {
            "text/html": [
              "<div>\n",
              "<style scoped>\n",
              "    .dataframe tbody tr th:only-of-type {\n",
              "        vertical-align: middle;\n",
              "    }\n",
              "\n",
              "    .dataframe tbody tr th {\n",
              "        vertical-align: top;\n",
              "    }\n",
              "\n",
              "    .dataframe thead th {\n",
              "        text-align: right;\n",
              "    }\n",
              "</style>\n",
              "<table border=\"1\" class=\"dataframe\">\n",
              "  <thead>\n",
              "    <tr style=\"text-align: right;\">\n",
              "      <th></th>\n",
              "      <th>Date</th>\n",
              "      <th>Open</th>\n",
              "      <th>High</th>\n",
              "      <th>Low</th>\n",
              "      <th>Close</th>\n",
              "      <th>day</th>\n",
              "      <th>month</th>\n",
              "      <th>year</th>\n",
              "    </tr>\n",
              "  </thead>\n",
              "  <tbody>\n",
              "    <tr>\n",
              "      <th>0</th>\n",
              "      <td>29-03-2021</td>\n",
              "      <td>121.650002</td>\n",
              "      <td>124.180000</td>\n",
              "      <td>118.860001</td>\n",
              "      <td>123.000000</td>\n",
              "      <td>29</td>\n",
              "      <td>3</td>\n",
              "      <td>2021</td>\n",
              "    </tr>\n",
              "    <tr>\n",
              "      <th>1</th>\n",
              "      <td>05-04-2021</td>\n",
              "      <td>123.870003</td>\n",
              "      <td>133.039993</td>\n",
              "      <td>123.070000</td>\n",
              "      <td>133.000000</td>\n",
              "      <td>4</td>\n",
              "      <td>5</td>\n",
              "      <td>2021</td>\n",
              "    </tr>\n",
              "    <tr>\n",
              "      <th>2</th>\n",
              "      <td>12-04-2021</td>\n",
              "      <td>132.520004</td>\n",
              "      <td>135.000000</td>\n",
              "      <td>130.630005</td>\n",
              "      <td>134.160004</td>\n",
              "      <td>4</td>\n",
              "      <td>12</td>\n",
              "      <td>2021</td>\n",
              "    </tr>\n",
              "    <tr>\n",
              "      <th>3</th>\n",
              "      <td>19-04-2021</td>\n",
              "      <td>133.509995</td>\n",
              "      <td>135.529999</td>\n",
              "      <td>131.300003</td>\n",
              "      <td>134.320007</td>\n",
              "      <td>19</td>\n",
              "      <td>4</td>\n",
              "      <td>2021</td>\n",
              "    </tr>\n",
              "    <tr>\n",
              "      <th>4</th>\n",
              "      <td>26-04-2021</td>\n",
              "      <td>134.830002</td>\n",
              "      <td>137.070007</td>\n",
              "      <td>131.070007</td>\n",
              "      <td>131.460007</td>\n",
              "      <td>26</td>\n",
              "      <td>4</td>\n",
              "      <td>2021</td>\n",
              "    </tr>\n",
              "  </tbody>\n",
              "</table>\n",
              "</div>"
            ],
            "text/plain": [
              "         Date        Open        High         Low       Close  day  month  year\n",
              "0  29-03-2021  121.650002  124.180000  118.860001  123.000000   29      3  2021\n",
              "1  05-04-2021  123.870003  133.039993  123.070000  133.000000    4      5  2021\n",
              "2  12-04-2021  132.520004  135.000000  130.630005  134.160004    4     12  2021\n",
              "3  19-04-2021  133.509995  135.529999  131.300003  134.320007   19      4  2021\n",
              "4  26-04-2021  134.830002  137.070007  131.070007  131.460007   26      4  2021"
            ]
          },
          "metadata": {},
          "execution_count": 8
        }
      ]
    },
    {
      "cell_type": "code",
      "metadata": {
        "colab": {
          "base_uri": "https://localhost:8080/",
          "height": 203
        },
        "id": "WmGE3j2FQCXS",
        "outputId": "ba7e2eef-608d-409d-fb25-0f610e6c5f2d"
      },
      "source": [
        "AAPL_df.head()"
      ],
      "execution_count": 9,
      "outputs": [
        {
          "output_type": "execute_result",
          "data": {
            "text/html": [
              "<div>\n",
              "<style scoped>\n",
              "    .dataframe tbody tr th:only-of-type {\n",
              "        vertical-align: middle;\n",
              "    }\n",
              "\n",
              "    .dataframe tbody tr th {\n",
              "        vertical-align: top;\n",
              "    }\n",
              "\n",
              "    .dataframe thead th {\n",
              "        text-align: right;\n",
              "    }\n",
              "</style>\n",
              "<table border=\"1\" class=\"dataframe\">\n",
              "  <thead>\n",
              "    <tr style=\"text-align: right;\">\n",
              "      <th></th>\n",
              "      <th>Date</th>\n",
              "      <th>Open</th>\n",
              "      <th>High</th>\n",
              "      <th>Low</th>\n",
              "      <th>Close</th>\n",
              "      <th>day</th>\n",
              "      <th>month</th>\n",
              "      <th>year</th>\n",
              "    </tr>\n",
              "  </thead>\n",
              "  <tbody>\n",
              "    <tr>\n",
              "      <th>0</th>\n",
              "      <td>29-03-2021</td>\n",
              "      <td>121.650002</td>\n",
              "      <td>124.180000</td>\n",
              "      <td>118.860001</td>\n",
              "      <td>123.000000</td>\n",
              "      <td>29</td>\n",
              "      <td>3</td>\n",
              "      <td>2021</td>\n",
              "    </tr>\n",
              "    <tr>\n",
              "      <th>1</th>\n",
              "      <td>05-04-2021</td>\n",
              "      <td>123.870003</td>\n",
              "      <td>133.039993</td>\n",
              "      <td>123.070000</td>\n",
              "      <td>133.000000</td>\n",
              "      <td>4</td>\n",
              "      <td>5</td>\n",
              "      <td>2021</td>\n",
              "    </tr>\n",
              "    <tr>\n",
              "      <th>2</th>\n",
              "      <td>12-04-2021</td>\n",
              "      <td>132.520004</td>\n",
              "      <td>135.000000</td>\n",
              "      <td>130.630005</td>\n",
              "      <td>134.160004</td>\n",
              "      <td>4</td>\n",
              "      <td>12</td>\n",
              "      <td>2021</td>\n",
              "    </tr>\n",
              "    <tr>\n",
              "      <th>3</th>\n",
              "      <td>19-04-2021</td>\n",
              "      <td>133.509995</td>\n",
              "      <td>135.529999</td>\n",
              "      <td>131.300003</td>\n",
              "      <td>134.320007</td>\n",
              "      <td>19</td>\n",
              "      <td>4</td>\n",
              "      <td>2021</td>\n",
              "    </tr>\n",
              "    <tr>\n",
              "      <th>4</th>\n",
              "      <td>26-04-2021</td>\n",
              "      <td>134.830002</td>\n",
              "      <td>137.070007</td>\n",
              "      <td>131.070007</td>\n",
              "      <td>131.460007</td>\n",
              "      <td>26</td>\n",
              "      <td>4</td>\n",
              "      <td>2021</td>\n",
              "    </tr>\n",
              "  </tbody>\n",
              "</table>\n",
              "</div>"
            ],
            "text/plain": [
              "         Date        Open        High         Low       Close  day  month  year\n",
              "0  29-03-2021  121.650002  124.180000  118.860001  123.000000   29      3  2021\n",
              "1  05-04-2021  123.870003  133.039993  123.070000  133.000000    4      5  2021\n",
              "2  12-04-2021  132.520004  135.000000  130.630005  134.160004    4     12  2021\n",
              "3  19-04-2021  133.509995  135.529999  131.300003  134.320007   19      4  2021\n",
              "4  26-04-2021  134.830002  137.070007  131.070007  131.460007   26      4  2021"
            ]
          },
          "metadata": {},
          "execution_count": 9
        }
      ]
    },
    {
      "cell_type": "markdown",
      "metadata": {
        "id": "XBE0BibLQd0e"
      },
      "source": [
        "# Exploratory Data Analysis Of APPLE_Stock_Data\n",
        "\n"
      ]
    },
    {
      "cell_type": "code",
      "metadata": {
        "colab": {
          "base_uri": "https://localhost:8080/",
          "height": 386
        },
        "id": "haO71BFUQLVB",
        "outputId": "ce5be148-6d7d-4850-b054-b49a60de4644"
      },
      "source": [
        "sns.catplot(x = \"month\", y = \"High\", data = AAPL_df, kind = \"bar\", height = 5)"
      ],
      "execution_count": 10,
      "outputs": [
        {
          "output_type": "execute_result",
          "data": {
            "text/plain": [
              "<seaborn.axisgrid.FacetGrid at 0x7f1d9e253dd0>"
            ]
          },
          "metadata": {},
          "execution_count": 10
        },
        {
          "output_type": "display_data",
          "data": {
            "image/png": "[encoded data removed]",
            "text/plain": [
              "<Figure size 360x360 with 1 Axes>"
            ]
          },
          "metadata": {
            "needs_background": "light"
          }
        }
      ]
    },
    {
      "cell_type": "markdown",
      "metadata": {
        "id": "ZXT-whIfTN-G"
      },
      "source": [
        "# Change in 'High' Values in past 6 months for Apple"
      ]
    },
    {
      "cell_type": "code",
      "metadata": {
        "colab": {
          "base_uri": "https://localhost:8080/",
          "height": 282
        },
        "id": "PRqiIywHTnZz",
        "outputId": "5e26d7af-69a9-4257-f538-3dda1fa1cd9c"
      },
      "source": [
        "plt.plot(AAPL_df.groupby('month')['High'].max())"
      ],
      "execution_count": 11,
      "outputs": [
        {
          "output_type": "execute_result",
          "data": {
            "text/plain": [
              "[<matplotlib.lines.Line2D at 0x7f1d95c454d0>]"
            ]
          },
          "metadata": {},
          "execution_count": 11
        },
        {
          "output_type": "display_data",
          "data": {
            "image/png": "[encoded data removed]",
            "text/plain": [
              "<Figure size 432x288 with 1 Axes>"
            ]
          },
          "metadata": {
            "needs_background": "light"
          }
        }
      ]
    },
    {
      "cell_type": "markdown",
      "metadata": {
        "id": "IWrIPbj1TalE"
      },
      "source": [
        "# Change 'Low' Values in past 6 months for Apple"
      ]
    },
    {
      "cell_type": "code",
      "metadata": {
        "colab": {
          "base_uri": "https://localhost:8080/",
          "height": 286
        },
        "id": "UQ_rHJflT25j",
        "outputId": "32bcc6c4-4ee8-4581-808d-5713af718a95"
      },
      "source": [
        "plt.plot(AAPL_df.groupby('month')['Low'].max())"
      ],
      "execution_count": 12,
      "outputs": [
        {
          "output_type": "execute_result",
          "data": {
            "text/plain": [
              "[<matplotlib.lines.Line2D at 0x7f1d95c309d0>]"
            ]
          },
          "metadata": {},
          "execution_count": 12
        },
        {
          "output_type": "display_data",
          "data": {
            "image/png": "[encoded data removed]",
            "text/plain": [
              "<Figure size 432x288 with 1 Axes>"
            ]
          },
          "metadata": {
            "needs_background": "light"
          }
        }
      ]
    },
    {
      "cell_type": "markdown",
      "metadata": {
        "id": "AxZO1ggmURzu"
      },
      "source": [
        "# **Performing EDA on Amazon_Stock_Data Of Last Six Months**"
      ]
    },
    {
      "cell_type": "code",
      "metadata": {
        "colab": {
          "base_uri": "https://localhost:8080/",
          "height": 203
        },
        "id": "w8EySF1wUeCj",
        "outputId": "1e5b8e36-502c-4df6-88bd-9e6ad989d017"
      },
      "source": [
        "AMZN_df = pd.read_csv('AMZN.csv')\n",
        "AMZN_df.head()"
      ],
      "execution_count": 13,
      "outputs": [
        {
          "output_type": "execute_result",
          "data": {
            "text/html": [
              "<div>\n",
              "<style scoped>\n",
              "    .dataframe tbody tr th:only-of-type {\n",
              "        vertical-align: middle;\n",
              "    }\n",
              "\n",
              "    .dataframe tbody tr th {\n",
              "        vertical-align: top;\n",
              "    }\n",
              "\n",
              "    .dataframe thead th {\n",
              "        text-align: right;\n",
              "    }\n",
              "</style>\n",
              "<table border=\"1\" class=\"dataframe\">\n",
              "  <thead>\n",
              "    <tr style=\"text-align: right;\">\n",
              "      <th></th>\n",
              "      <th>Date</th>\n",
              "      <th>Open</th>\n",
              "      <th>High</th>\n",
              "      <th>Low</th>\n",
              "      <th>Close</th>\n",
              "    </tr>\n",
              "  </thead>\n",
              "  <tbody>\n",
              "    <tr>\n",
              "      <th>0</th>\n",
              "      <td>29-03-2021</td>\n",
              "      <td>3055.439941</td>\n",
              "      <td>3162.439941</td>\n",
              "      <td>3028.449951</td>\n",
              "      <td>3161.000000</td>\n",
              "    </tr>\n",
              "    <tr>\n",
              "      <th>1</th>\n",
              "      <td>05-04-2021</td>\n",
              "      <td>3173.000000</td>\n",
              "      <td>3372.199951</td>\n",
              "      <td>3161.239990</td>\n",
              "      <td>3372.199951</td>\n",
              "    </tr>\n",
              "    <tr>\n",
              "      <th>2</th>\n",
              "      <td>12-04-2021</td>\n",
              "      <td>3355.209961</td>\n",
              "      <td>3432.000000</td>\n",
              "      <td>3326.000000</td>\n",
              "      <td>3399.439941</td>\n",
              "    </tr>\n",
              "    <tr>\n",
              "      <th>3</th>\n",
              "      <td>19-04-2021</td>\n",
              "      <td>3390.330078</td>\n",
              "      <td>3435.929932</td>\n",
              "      <td>3301.449951</td>\n",
              "      <td>3340.879883</td>\n",
              "    </tr>\n",
              "    <tr>\n",
              "      <th>4</th>\n",
              "      <td>26-04-2021</td>\n",
              "      <td>3348.000000</td>\n",
              "      <td>3554.000000</td>\n",
              "      <td>3330.939941</td>\n",
              "      <td>3467.419922</td>\n",
              "    </tr>\n",
              "  </tbody>\n",
              "</table>\n",
              "</div>"
            ],
            "text/plain": [
              "         Date         Open         High          Low        Close\n",
              "0  29-03-2021  3055.439941  3162.439941  3028.449951  3161.000000\n",
              "1  05-04-2021  3173.000000  3372.199951  3161.239990  3372.199951\n",
              "2  12-04-2021  3355.209961  3432.000000  3326.000000  3399.439941\n",
              "3  19-04-2021  3390.330078  3435.929932  3301.449951  3340.879883\n",
              "4  26-04-2021  3348.000000  3554.000000  3330.939941  3467.419922"
            ]
          },
          "metadata": {},
          "execution_count": 13
        }
      ]
    },
    {
      "cell_type": "code",
      "metadata": {
        "colab": {
          "base_uri": "https://localhost:8080/"
        },
        "id": "d6bY0E07Uo9Q",
        "outputId": "c0779a05-b229-4a3e-f5b5-89a2104730bd"
      },
      "source": [
        "AMZN_df.info()"
      ],
      "execution_count": 14,
      "outputs": [
        {
          "output_type": "stream",
          "name": "stdout",
          "text": [
            "<class 'pandas.core.frame.DataFrame'>\n",
            "RangeIndex: 28 entries, 0 to 27\n",
            "Data columns (total 5 columns):\n",
            " #   Column  Non-Null Count  Dtype  \n",
            "---  ------  --------------  -----  \n",
            " 0   Date    28 non-null     object \n",
            " 1   Open    28 non-null     float64\n",
            " 2   High    28 non-null     float64\n",
            " 3   Low     28 non-null     float64\n",
            " 4   Close   28 non-null     float64\n",
            "dtypes: float64(4), object(1)\n",
            "memory usage: 1.2+ KB\n"
          ]
        }
      ]
    },
    {
      "cell_type": "code",
      "metadata": {
        "colab": {
          "base_uri": "https://localhost:8080/"
        },
        "id": "xcVP4eP8U7b0",
        "outputId": "d6a07df4-f247-4b63-f71d-98bd6639176e"
      },
      "source": [
        "AMZN_df.dtypes"
      ],
      "execution_count": 15,
      "outputs": [
        {
          "output_type": "execute_result",
          "data": {
            "text/plain": [
              "Date      object\n",
              "Open     float64\n",
              "High     float64\n",
              "Low      float64\n",
              "Close    float64\n",
              "dtype: object"
            ]
          },
          "metadata": {},
          "execution_count": 15
        }
      ]
    },
    {
      "cell_type": "code",
      "metadata": {
        "colab": {
          "base_uri": "https://localhost:8080/"
        },
        "id": "hG-eyYsoVB7p",
        "outputId": "9bba69c7-5dba-4bcf-d668-bb0b09dac99b"
      },
      "source": [
        "AMZN_df.count() "
      ],
      "execution_count": 16,
      "outputs": [
        {
          "output_type": "execute_result",
          "data": {
            "text/plain": [
              "Date     28\n",
              "Open     28\n",
              "High     28\n",
              "Low      28\n",
              "Close    28\n",
              "dtype: int64"
            ]
          },
          "metadata": {},
          "execution_count": 16
        }
      ]
    },
    {
      "cell_type": "markdown",
      "metadata": {
        "id": "tlvzgQ4eZ0kY"
      },
      "source": [
        "# Splitting \"Date\" cloumn into (day,month,and year)"
      ]
    },
    {
      "cell_type": "code",
      "metadata": {
        "id": "llAPRREkVI5C"
      },
      "source": [
        "AMZN_df[\"day\"] = AMZN_df['Date'].map(lambda x: pd.to_datetime(x).day)\n",
        "AMZN_df[\"month\"] = AMZN_df['Date'].map(lambda x: pd.to_datetime(x).month)\n",
        "AMZN_df[\"year\"] = AMZN_df['Date'].map(lambda x: pd.to_datetime(x).year)"
      ],
      "execution_count": 17,
      "outputs": []
    },
    {
      "cell_type": "code",
      "metadata": {
        "colab": {
          "base_uri": "https://localhost:8080/",
          "height": 203
        },
        "id": "rjkITMhHfOMk",
        "outputId": "1dd8add3-70f8-4a32-b291-9885aed2ba4e"
      },
      "source": [
        "AMZN_df.head()"
      ],
      "execution_count": 18,
      "outputs": [
        {
          "output_type": "execute_result",
          "data": {
            "text/html": [
              "<div>\n",
              "<style scoped>\n",
              "    .dataframe tbody tr th:only-of-type {\n",
              "        vertical-align: middle;\n",
              "    }\n",
              "\n",
              "    .dataframe tbody tr th {\n",
              "        vertical-align: top;\n",
              "    }\n",
              "\n",
              "    .dataframe thead th {\n",
              "        text-align: right;\n",
              "    }\n",
              "</style>\n",
              "<table border=\"1\" class=\"dataframe\">\n",
              "  <thead>\n",
              "    <tr style=\"text-align: right;\">\n",
              "      <th></th>\n",
              "      <th>Date</th>\n",
              "      <th>Open</th>\n",
              "      <th>High</th>\n",
              "      <th>Low</th>\n",
              "      <th>Close</th>\n",
              "      <th>day</th>\n",
              "      <th>month</th>\n",
              "      <th>year</th>\n",
              "    </tr>\n",
              "  </thead>\n",
              "  <tbody>\n",
              "    <tr>\n",
              "      <th>0</th>\n",
              "      <td>29-03-2021</td>\n",
              "      <td>3055.439941</td>\n",
              "      <td>3162.439941</td>\n",
              "      <td>3028.449951</td>\n",
              "      <td>3161.000000</td>\n",
              "      <td>29</td>\n",
              "      <td>3</td>\n",
              "      <td>2021</td>\n",
              "    </tr>\n",
              "    <tr>\n",
              "      <th>1</th>\n",
              "      <td>05-04-2021</td>\n",
              "      <td>3173.000000</td>\n",
              "      <td>3372.199951</td>\n",
              "      <td>3161.239990</td>\n",
              "      <td>3372.199951</td>\n",
              "      <td>4</td>\n",
              "      <td>5</td>\n",
              "      <td>2021</td>\n",
              "    </tr>\n",
              "    <tr>\n",
              "      <th>2</th>\n",
              "      <td>12-04-2021</td>\n",
              "      <td>3355.209961</td>\n",
              "      <td>3432.000000</td>\n",
              "      <td>3326.000000</td>\n",
              "      <td>3399.439941</td>\n",
              "      <td>4</td>\n",
              "      <td>12</td>\n",
              "      <td>2021</td>\n",
              "    </tr>\n",
              "    <tr>\n",
              "      <th>3</th>\n",
              "      <td>19-04-2021</td>\n",
              "      <td>3390.330078</td>\n",
              "      <td>3435.929932</td>\n",
              "      <td>3301.449951</td>\n",
              "      <td>3340.879883</td>\n",
              "      <td>19</td>\n",
              "      <td>4</td>\n",
              "      <td>2021</td>\n",
              "    </tr>\n",
              "    <tr>\n",
              "      <th>4</th>\n",
              "      <td>26-04-2021</td>\n",
              "      <td>3348.000000</td>\n",
              "      <td>3554.000000</td>\n",
              "      <td>3330.939941</td>\n",
              "      <td>3467.419922</td>\n",
              "      <td>26</td>\n",
              "      <td>4</td>\n",
              "      <td>2021</td>\n",
              "    </tr>\n",
              "  </tbody>\n",
              "</table>\n",
              "</div>"
            ],
            "text/plain": [
              "         Date         Open         High  ...  day  month  year\n",
              "0  29-03-2021  3055.439941  3162.439941  ...   29      3  2021\n",
              "1  05-04-2021  3173.000000  3372.199951  ...    4      5  2021\n",
              "2  12-04-2021  3355.209961  3432.000000  ...    4     12  2021\n",
              "3  19-04-2021  3390.330078  3435.929932  ...   19      4  2021\n",
              "4  26-04-2021  3348.000000  3554.000000  ...   26      4  2021\n",
              "\n",
              "[5 rows x 8 columns]"
            ]
          },
          "metadata": {},
          "execution_count": 18
        }
      ]
    },
    {
      "cell_type": "markdown",
      "metadata": {
        "id": "-57Tya5cawNE"
      },
      "source": [
        "# Exploratory Data Analysis Of Amazon_Stock_Data"
      ]
    },
    {
      "cell_type": "code",
      "metadata": {
        "colab": {
          "base_uri": "https://localhost:8080/",
          "height": 386
        },
        "id": "VIxZQAPeVJuy",
        "outputId": "f497a814-3d5a-4031-fe76-6da881a8f1d2"
      },
      "source": [
        "sns.catplot(x = \"month\", y = \"High\", data = AMZN_df, kind = \"bar\", height = 5)"
      ],
      "execution_count": 19,
      "outputs": [
        {
          "output_type": "execute_result",
          "data": {
            "text/plain": [
              "<seaborn.axisgrid.FacetGrid at 0x7f1d95bdb6d0>"
            ]
          },
          "metadata": {},
          "execution_count": 19
        },
        {
          "output_type": "display_data",
          "data": {
            "image/png": "[encoded data removed]",
            "text/plain": [
              "<Figure size 360x360 with 1 Axes>"
            ]
          },
          "metadata": {
            "needs_background": "light"
          }
        }
      ]
    },
    {
      "cell_type": "markdown",
      "metadata": {
        "id": "iquL77QKbo5h"
      },
      "source": [
        "# Change in 'High' Values in past 6 months for Amazon"
      ]
    },
    {
      "cell_type": "code",
      "metadata": {
        "colab": {
          "base_uri": "https://localhost:8080/",
          "height": 282
        },
        "id": "ym54msEWVofq",
        "outputId": "3bce9e2c-0732-45f7-86e4-ffd16a2b3b39"
      },
      "source": [
        "plt.plot(AMZN_df.groupby('month')['High'].max())"
      ],
      "execution_count": 20,
      "outputs": [
        {
          "output_type": "execute_result",
          "data": {
            "text/plain": [
              "[<matplotlib.lines.Line2D at 0x7f1d95c7d950>]"
            ]
          },
          "metadata": {},
          "execution_count": 20
        },
        {
          "output_type": "display_data",
          "data": {
            "image/png": "[encoded data removed]",
            "text/plain": [
              "<Figure size 432x288 with 1 Axes>"
            ]
          },
          "metadata": {
            "needs_background": "light"
          }
        }
      ]
    },
    {
      "cell_type": "markdown",
      "metadata": {
        "id": "atwj5qYvcTR8"
      },
      "source": [
        "# Change 'Low' Values in past 6 months for Amazon"
      ]
    },
    {
      "cell_type": "code",
      "metadata": {
        "colab": {
          "base_uri": "https://localhost:8080/",
          "height": 282
        },
        "id": "2yWN5YxkVu1J",
        "outputId": "e965d720-dd52-46b3-879e-902cbd5437fc"
      },
      "source": [
        "plt.plot(AMZN_df.groupby('month')['Low'].max())"
      ],
      "execution_count": 21,
      "outputs": [
        {
          "output_type": "execute_result",
          "data": {
            "text/plain": [
              "[<matplotlib.lines.Line2D at 0x7f1d95aae550>]"
            ]
          },
          "metadata": {},
          "execution_count": 21
        },
        {
          "output_type": "display_data",
          "data": {
            "image/png": "[encoded data removed]",
            "text/plain": [
              "<Figure size 432x288 with 1 Axes>"
            ]
          },
          "metadata": {
            "needs_background": "light"
          }
        }
      ]
    },
    {
      "cell_type": "markdown",
      "metadata": {
        "id": "buNTrSd8aaby"
      },
      "source": [
        "# **Performing EDA on Amazon_Stock_Data Of Last Six Months**"
      ]
    },
    {
      "cell_type": "code",
      "metadata": {
        "colab": {
          "base_uri": "https://localhost:8080/",
          "height": 203
        },
        "id": "Ka7M8bBZUvf5",
        "outputId": "b970e966-274d-46d5-9f21-0ee11905983e"
      },
      "source": [
        "IBM_df = pd.read_csv('IBM.csv')\n",
        "IBM_df.head()"
      ],
      "execution_count": 22,
      "outputs": [
        {
          "output_type": "execute_result",
          "data": {
            "text/html": [
              "<div>\n",
              "<style scoped>\n",
              "    .dataframe tbody tr th:only-of-type {\n",
              "        vertical-align: middle;\n",
              "    }\n",
              "\n",
              "    .dataframe tbody tr th {\n",
              "        vertical-align: top;\n",
              "    }\n",
              "\n",
              "    .dataframe thead th {\n",
              "        text-align: right;\n",
              "    }\n",
              "</style>\n",
              "<table border=\"1\" class=\"dataframe\">\n",
              "  <thead>\n",
              "    <tr style=\"text-align: right;\">\n",
              "      <th></th>\n",
              "      <th>Date</th>\n",
              "      <th>Open</th>\n",
              "      <th>High</th>\n",
              "      <th>Low</th>\n",
              "      <th>Close</th>\n",
              "    </tr>\n",
              "  </thead>\n",
              "  <tbody>\n",
              "    <tr>\n",
              "      <th>0</th>\n",
              "      <td>29-03-2021</td>\n",
              "      <td>135.979996</td>\n",
              "      <td>137.070007</td>\n",
              "      <td>132.270004</td>\n",
              "      <td>133.229996</td>\n",
              "    </tr>\n",
              "    <tr>\n",
              "      <th>1</th>\n",
              "      <td>05-04-2021</td>\n",
              "      <td>133.639999</td>\n",
              "      <td>136.690002</td>\n",
              "      <td>133.399994</td>\n",
              "      <td>135.729996</td>\n",
              "    </tr>\n",
              "    <tr>\n",
              "      <th>2</th>\n",
              "      <td>12-04-2021</td>\n",
              "      <td>135.020004</td>\n",
              "      <td>135.369995</td>\n",
              "      <td>130.380005</td>\n",
              "      <td>133.589996</td>\n",
              "    </tr>\n",
              "    <tr>\n",
              "      <th>3</th>\n",
              "      <td>19-04-2021</td>\n",
              "      <td>133.600006</td>\n",
              "      <td>144.740005</td>\n",
              "      <td>132.580002</td>\n",
              "      <td>142.429993</td>\n",
              "    </tr>\n",
              "    <tr>\n",
              "      <th>4</th>\n",
              "      <td>26-04-2021</td>\n",
              "      <td>142.419998</td>\n",
              "      <td>148.740005</td>\n",
              "      <td>140.550003</td>\n",
              "      <td>141.880005</td>\n",
              "    </tr>\n",
              "  </tbody>\n",
              "</table>\n",
              "</div>"
            ],
            "text/plain": [
              "         Date        Open        High         Low       Close\n",
              "0  29-03-2021  135.979996  137.070007  132.270004  133.229996\n",
              "1  05-04-2021  133.639999  136.690002  133.399994  135.729996\n",
              "2  12-04-2021  135.020004  135.369995  130.380005  133.589996\n",
              "3  19-04-2021  133.600006  144.740005  132.580002  142.429993\n",
              "4  26-04-2021  142.419998  148.740005  140.550003  141.880005"
            ]
          },
          "metadata": {},
          "execution_count": 22
        }
      ]
    },
    {
      "cell_type": "code",
      "metadata": {
        "colab": {
          "base_uri": "https://localhost:8080/"
        },
        "id": "0V_Z9yoIUzkG",
        "outputId": "b240cafb-bcd1-46f0-9e44-0496e78aa41f"
      },
      "source": [
        "IBM_df.info()"
      ],
      "execution_count": 23,
      "outputs": [
        {
          "output_type": "stream",
          "name": "stdout",
          "text": [
            "<class 'pandas.core.frame.DataFrame'>\n",
            "RangeIndex: 28 entries, 0 to 27\n",
            "Data columns (total 5 columns):\n",
            " #   Column  Non-Null Count  Dtype  \n",
            "---  ------  --------------  -----  \n",
            " 0   Date    28 non-null     object \n",
            " 1   Open    28 non-null     float64\n",
            " 2   High    28 non-null     float64\n",
            " 3   Low     28 non-null     float64\n",
            " 4   Close   28 non-null     float64\n",
            "dtypes: float64(4), object(1)\n",
            "memory usage: 1.2+ KB\n"
          ]
        }
      ]
    },
    {
      "cell_type": "code",
      "metadata": {
        "colab": {
          "base_uri": "https://localhost:8080/"
        },
        "id": "Ob9FSPVtU7pk",
        "outputId": "06dde571-3354-42c8-da0d-2ae1fea32510"
      },
      "source": [
        "IBM_df.dtypes"
      ],
      "execution_count": 24,
      "outputs": [
        {
          "output_type": "execute_result",
          "data": {
            "text/plain": [
              "Date      object\n",
              "Open     float64\n",
              "High     float64\n",
              "Low      float64\n",
              "Close    float64\n",
              "dtype: object"
            ]
          },
          "metadata": {},
          "execution_count": 24
        }
      ]
    },
    {
      "cell_type": "code",
      "metadata": {
        "colab": {
          "base_uri": "https://localhost:8080/"
        },
        "id": "8jAGU8ryVCNf",
        "outputId": "c528ccc2-b728-4f79-de1a-2372c775ac55"
      },
      "source": [
        "IBM_df.count() "
      ],
      "execution_count": 25,
      "outputs": [
        {
          "output_type": "execute_result",
          "data": {
            "text/plain": [
              "Date     28\n",
              "Open     28\n",
              "High     28\n",
              "Low      28\n",
              "Close    28\n",
              "dtype: int64"
            ]
          },
          "metadata": {},
          "execution_count": 25
        }
      ]
    },
    {
      "cell_type": "markdown",
      "metadata": {
        "id": "aVFYaIH6Z5rs"
      },
      "source": [
        "# Splitting \"Date\" cloumn into (day,month,and year)"
      ]
    },
    {
      "cell_type": "code",
      "metadata": {
        "id": "1jtcdZp4VJFR"
      },
      "source": [
        "IBM_df[\"day\"] = IBM_df['Date'].map(lambda x: pd.to_datetime(x).day)\n",
        "IBM_df[\"month\"] =IBM_df['Date'].map(lambda x: pd.to_datetime(x).month)\n",
        "IBM_df[\"year\"] =IBM_df['Date'].map(lambda x: pd.to_datetime(x).year)"
      ],
      "execution_count": 26,
      "outputs": []
    },
    {
      "cell_type": "code",
      "metadata": {
        "colab": {
          "base_uri": "https://localhost:8080/",
          "height": 203
        },
        "id": "vwjl60_KfA_7",
        "outputId": "00de764b-4224-4a16-c15a-b48a8ce10768"
      },
      "source": [
        "IBM_df.head()"
      ],
      "execution_count": 27,
      "outputs": [
        {
          "output_type": "execute_result",
          "data": {
            "text/html": [
              "<div>\n",
              "<style scoped>\n",
              "    .dataframe tbody tr th:only-of-type {\n",
              "        vertical-align: middle;\n",
              "    }\n",
              "\n",
              "    .dataframe tbody tr th {\n",
              "        vertical-align: top;\n",
              "    }\n",
              "\n",
              "    .dataframe thead th {\n",
              "        text-align: right;\n",
              "    }\n",
              "</style>\n",
              "<table border=\"1\" class=\"dataframe\">\n",
              "  <thead>\n",
              "    <tr style=\"text-align: right;\">\n",
              "      <th></th>\n",
              "      <th>Date</th>\n",
              "      <th>Open</th>\n",
              "      <th>High</th>\n",
              "      <th>Low</th>\n",
              "      <th>Close</th>\n",
              "      <th>day</th>\n",
              "      <th>month</th>\n",
              "      <th>year</th>\n",
              "    </tr>\n",
              "  </thead>\n",
              "  <tbody>\n",
              "    <tr>\n",
              "      <th>0</th>\n",
              "      <td>29-03-2021</td>\n",
              "      <td>135.979996</td>\n",
              "      <td>137.070007</td>\n",
              "      <td>132.270004</td>\n",
              "      <td>133.229996</td>\n",
              "      <td>29</td>\n",
              "      <td>3</td>\n",
              "      <td>2021</td>\n",
              "    </tr>\n",
              "    <tr>\n",
              "      <th>1</th>\n",
              "      <td>05-04-2021</td>\n",
              "      <td>133.639999</td>\n",
              "      <td>136.690002</td>\n",
              "      <td>133.399994</td>\n",
              "      <td>135.729996</td>\n",
              "      <td>4</td>\n",
              "      <td>5</td>\n",
              "      <td>2021</td>\n",
              "    </tr>\n",
              "    <tr>\n",
              "      <th>2</th>\n",
              "      <td>12-04-2021</td>\n",
              "      <td>135.020004</td>\n",
              "      <td>135.369995</td>\n",
              "      <td>130.380005</td>\n",
              "      <td>133.589996</td>\n",
              "      <td>4</td>\n",
              "      <td>12</td>\n",
              "      <td>2021</td>\n",
              "    </tr>\n",
              "    <tr>\n",
              "      <th>3</th>\n",
              "      <td>19-04-2021</td>\n",
              "      <td>133.600006</td>\n",
              "      <td>144.740005</td>\n",
              "      <td>132.580002</td>\n",
              "      <td>142.429993</td>\n",
              "      <td>19</td>\n",
              "      <td>4</td>\n",
              "      <td>2021</td>\n",
              "    </tr>\n",
              "    <tr>\n",
              "      <th>4</th>\n",
              "      <td>26-04-2021</td>\n",
              "      <td>142.419998</td>\n",
              "      <td>148.740005</td>\n",
              "      <td>140.550003</td>\n",
              "      <td>141.880005</td>\n",
              "      <td>26</td>\n",
              "      <td>4</td>\n",
              "      <td>2021</td>\n",
              "    </tr>\n",
              "  </tbody>\n",
              "</table>\n",
              "</div>"
            ],
            "text/plain": [
              "         Date        Open        High         Low       Close  day  month  year\n",
              "0  29-03-2021  135.979996  137.070007  132.270004  133.229996   29      3  2021\n",
              "1  05-04-2021  133.639999  136.690002  133.399994  135.729996    4      5  2021\n",
              "2  12-04-2021  135.020004  135.369995  130.380005  133.589996    4     12  2021\n",
              "3  19-04-2021  133.600006  144.740005  132.580002  142.429993   19      4  2021\n",
              "4  26-04-2021  142.419998  148.740005  140.550003  141.880005   26      4  2021"
            ]
          },
          "metadata": {},
          "execution_count": 27
        }
      ]
    },
    {
      "cell_type": "markdown",
      "metadata": {
        "id": "LMJ8gNLga39F"
      },
      "source": [
        "# Exploratory Data Analysis Of IBM_Stock_Data"
      ]
    },
    {
      "cell_type": "code",
      "metadata": {
        "colab": {
          "base_uri": "https://localhost:8080/",
          "height": 386
        },
        "id": "TjhYlg-PVPKX",
        "outputId": "f7128734-b84b-4ede-b914-dd29f45a0b98"
      },
      "source": [
        "sns.catplot(x = \"month\", y = \"High\", data = IBM_df, kind = \"bar\", height = 5)"
      ],
      "execution_count": 28,
      "outputs": [
        {
          "output_type": "execute_result",
          "data": {
            "text/plain": [
              "<seaborn.axisgrid.FacetGrid at 0x7f1d95bd4210>"
            ]
          },
          "metadata": {},
          "execution_count": 28
        },
        {
          "output_type": "display_data",
          "data": {
            "image/png": "[encoded data removed]",
            "text/plain": [
              "<Figure size 360x360 with 1 Axes>"
            ]
          },
          "metadata": {
            "needs_background": "light"
          }
        }
      ]
    },
    {
      "cell_type": "markdown",
      "metadata": {
        "id": "XW5t-0nhburH"
      },
      "source": [
        "# Change in 'High' Values in past 6 months for IBM"
      ]
    },
    {
      "cell_type": "code",
      "metadata": {
        "colab": {
          "base_uri": "https://localhost:8080/",
          "height": 282
        },
        "id": "lgqFbqJpVotB",
        "outputId": "03cfb7a4-f9b0-4768-ec40-18ea17c7f96f"
      },
      "source": [
        "plt.plot(IBM_df.groupby('month')['High'].max())"
      ],
      "execution_count": 29,
      "outputs": [
        {
          "output_type": "execute_result",
          "data": {
            "text/plain": [
              "[<matplotlib.lines.Line2D at 0x7f1d95950c10>]"
            ]
          },
          "metadata": {},
          "execution_count": 29
        },
        {
          "output_type": "display_data",
          "data": {
            "image/png": "[encoded data removed]",
            "text/plain": [
              "<Figure size 432x288 with 1 Axes>"
            ]
          },
          "metadata": {
            "needs_background": "light"
          }
        }
      ]
    },
    {
      "cell_type": "markdown",
      "metadata": {
        "id": "tqjwtMD2cc0n"
      },
      "source": [
        "# Change 'Low' Values in past 6 months for IBM"
      ]
    },
    {
      "cell_type": "code",
      "metadata": {
        "colab": {
          "base_uri": "https://localhost:8080/",
          "height": 282
        },
        "id": "b_wdH3EfVvBm",
        "outputId": "fb0fef65-a6b3-42d0-fa6d-e56b8dca5c34"
      },
      "source": [
        "plt.plot(IBM_df.groupby('month')['Low'].max())"
      ],
      "execution_count": 30,
      "outputs": [
        {
          "output_type": "execute_result",
          "data": {
            "text/plain": [
              "[<matplotlib.lines.Line2D at 0x7f1d958c4110>]"
            ]
          },
          "metadata": {},
          "execution_count": 30
        },
        {
          "output_type": "display_data",
          "data": {
            "image/png": "[encoded data removed]",
            "text/plain": [
              "<Figure size 432x288 with 1 Axes>"
            ]
          },
          "metadata": {
            "needs_background": "light"
          }
        }
      ]
    },
    {
      "cell_type": "markdown",
      "metadata": {
        "id": "oILw6GHhZZxS"
      },
      "source": [
        "# **Performing EDA on TESLA_Stock_Data Of Last Six Months**"
      ]
    },
    {
      "cell_type": "code",
      "metadata": {
        "colab": {
          "base_uri": "https://localhost:8080/",
          "height": 203
        },
        "id": "alLxqyyRUvts",
        "outputId": "b30346c5-3f11-458b-ede0-e79aac6b057a"
      },
      "source": [
        "TSLA_df = pd.read_csv('TSLA.csv')\n",
        "TSLA_df.head()"
      ],
      "execution_count": 31,
      "outputs": [
        {
          "output_type": "execute_result",
          "data": {
            "text/html": [
              "<div>\n",
              "<style scoped>\n",
              "    .dataframe tbody tr th:only-of-type {\n",
              "        vertical-align: middle;\n",
              "    }\n",
              "\n",
              "    .dataframe tbody tr th {\n",
              "        vertical-align: top;\n",
              "    }\n",
              "\n",
              "    .dataframe thead th {\n",
              "        text-align: right;\n",
              "    }\n",
              "</style>\n",
              "<table border=\"1\" class=\"dataframe\">\n",
              "  <thead>\n",
              "    <tr style=\"text-align: right;\">\n",
              "      <th></th>\n",
              "      <th>Date</th>\n",
              "      <th>Open</th>\n",
              "      <th>High</th>\n",
              "      <th>Low</th>\n",
              "      <th>Close</th>\n",
              "    </tr>\n",
              "  </thead>\n",
              "  <tbody>\n",
              "    <tr>\n",
              "      <th>0</th>\n",
              "      <td>29-03-2021</td>\n",
              "      <td>615.640015</td>\n",
              "      <td>692.419983</td>\n",
              "      <td>591.010010</td>\n",
              "      <td>661.750000</td>\n",
              "    </tr>\n",
              "    <tr>\n",
              "      <th>1</th>\n",
              "      <td>05-04-2021</td>\n",
              "      <td>707.710022</td>\n",
              "      <td>708.159973</td>\n",
              "      <td>667.840027</td>\n",
              "      <td>677.020020</td>\n",
              "    </tr>\n",
              "    <tr>\n",
              "      <th>2</th>\n",
              "      <td>12-04-2021</td>\n",
              "      <td>685.700012</td>\n",
              "      <td>780.789978</td>\n",
              "      <td>682.090027</td>\n",
              "      <td>739.780029</td>\n",
              "    </tr>\n",
              "    <tr>\n",
              "      <th>3</th>\n",
              "      <td>19-04-2021</td>\n",
              "      <td>719.599976</td>\n",
              "      <td>753.770020</td>\n",
              "      <td>691.799988</td>\n",
              "      <td>729.400024</td>\n",
              "    </tr>\n",
              "    <tr>\n",
              "      <th>4</th>\n",
              "      <td>26-04-2021</td>\n",
              "      <td>741.000000</td>\n",
              "      <td>749.299988</td>\n",
              "      <td>666.140015</td>\n",
              "      <td>709.440002</td>\n",
              "    </tr>\n",
              "  </tbody>\n",
              "</table>\n",
              "</div>"
            ],
            "text/plain": [
              "         Date        Open        High         Low       Close\n",
              "0  29-03-2021  615.640015  692.419983  591.010010  661.750000\n",
              "1  05-04-2021  707.710022  708.159973  667.840027  677.020020\n",
              "2  12-04-2021  685.700012  780.789978  682.090027  739.780029\n",
              "3  19-04-2021  719.599976  753.770020  691.799988  729.400024\n",
              "4  26-04-2021  741.000000  749.299988  666.140015  709.440002"
            ]
          },
          "metadata": {},
          "execution_count": 31
        }
      ]
    },
    {
      "cell_type": "code",
      "metadata": {
        "colab": {
          "base_uri": "https://localhost:8080/"
        },
        "id": "q-U9HB5vUz_x",
        "outputId": "be0512ce-97e0-4882-aebf-c78d059379f3"
      },
      "source": [
        "TSLA_df.info()"
      ],
      "execution_count": 32,
      "outputs": [
        {
          "output_type": "stream",
          "name": "stdout",
          "text": [
            "<class 'pandas.core.frame.DataFrame'>\n",
            "RangeIndex: 28 entries, 0 to 27\n",
            "Data columns (total 5 columns):\n",
            " #   Column  Non-Null Count  Dtype  \n",
            "---  ------  --------------  -----  \n",
            " 0   Date    28 non-null     object \n",
            " 1   Open    28 non-null     float64\n",
            " 2   High    28 non-null     float64\n",
            " 3   Low     28 non-null     float64\n",
            " 4   Close   28 non-null     float64\n",
            "dtypes: float64(4), object(1)\n",
            "memory usage: 1.2+ KB\n"
          ]
        }
      ]
    },
    {
      "cell_type": "code",
      "metadata": {
        "colab": {
          "base_uri": "https://localhost:8080/"
        },
        "id": "WJ2FJCEeU71x",
        "outputId": "b6655039-885c-4f51-98bb-98202089c654"
      },
      "source": [
        "TSLA_df.dtypes"
      ],
      "execution_count": 33,
      "outputs": [
        {
          "output_type": "execute_result",
          "data": {
            "text/plain": [
              "Date      object\n",
              "Open     float64\n",
              "High     float64\n",
              "Low      float64\n",
              "Close    float64\n",
              "dtype: object"
            ]
          },
          "metadata": {},
          "execution_count": 33
        }
      ]
    },
    {
      "cell_type": "code",
      "metadata": {
        "colab": {
          "base_uri": "https://localhost:8080/"
        },
        "id": "AVYLyP1FVCat",
        "outputId": "469553b7-0818-4afa-b152-2400d3d0dc74"
      },
      "source": [
        "TSLA_df.count() "
      ],
      "execution_count": 34,
      "outputs": [
        {
          "output_type": "execute_result",
          "data": {
            "text/plain": [
              "Date     28\n",
              "Open     28\n",
              "High     28\n",
              "Low      28\n",
              "Close    28\n",
              "dtype: int64"
            ]
          },
          "metadata": {},
          "execution_count": 34
        }
      ]
    },
    {
      "cell_type": "markdown",
      "metadata": {
        "id": "rVnQ9taXZ-Df"
      },
      "source": [
        "# Splitting \"Date\" cloumn into (day,month,and year)"
      ]
    },
    {
      "cell_type": "code",
      "metadata": {
        "id": "bPeBI3ztVJSi"
      },
      "source": [
        "TSLA_df[\"day\"] = TSLA_df['Date'].map(lambda x: pd.to_datetime(x).day)\n",
        "TSLA_df[\"month\"] = TSLA_df['Date'].map(lambda x: pd.to_datetime(x).month)\n",
        "TSLA_df[\"year\"] = TSLA_df['Date'].map(lambda x: pd.to_datetime(x).year)"
      ],
      "execution_count": 35,
      "outputs": []
    },
    {
      "cell_type": "code",
      "metadata": {
        "colab": {
          "base_uri": "https://localhost:8080/",
          "height": 203
        },
        "id": "kLUjZw9jezJQ",
        "outputId": "90a2e421-46cf-459d-ed25-5ab38a5dce4f"
      },
      "source": [
        "TSLA_df.head()"
      ],
      "execution_count": 36,
      "outputs": [
        {
          "output_type": "execute_result",
          "data": {
            "text/html": [
              "<div>\n",
              "<style scoped>\n",
              "    .dataframe tbody tr th:only-of-type {\n",
              "        vertical-align: middle;\n",
              "    }\n",
              "\n",
              "    .dataframe tbody tr th {\n",
              "        vertical-align: top;\n",
              "    }\n",
              "\n",
              "    .dataframe thead th {\n",
              "        text-align: right;\n",
              "    }\n",
              "</style>\n",
              "<table border=\"1\" class=\"dataframe\">\n",
              "  <thead>\n",
              "    <tr style=\"text-align: right;\">\n",
              "      <th></th>\n",
              "      <th>Date</th>\n",
              "      <th>Open</th>\n",
              "      <th>High</th>\n",
              "      <th>Low</th>\n",
              "      <th>Close</th>\n",
              "      <th>day</th>\n",
              "      <th>month</th>\n",
              "      <th>year</th>\n",
              "    </tr>\n",
              "  </thead>\n",
              "  <tbody>\n",
              "    <tr>\n",
              "      <th>0</th>\n",
              "      <td>29-03-2021</td>\n",
              "      <td>615.640015</td>\n",
              "      <td>692.419983</td>\n",
              "      <td>591.010010</td>\n",
              "      <td>661.750000</td>\n",
              "      <td>29</td>\n",
              "      <td>3</td>\n",
              "      <td>2021</td>\n",
              "    </tr>\n",
              "    <tr>\n",
              "      <th>1</th>\n",
              "      <td>05-04-2021</td>\n",
              "      <td>707.710022</td>\n",
              "      <td>708.159973</td>\n",
              "      <td>667.840027</td>\n",
              "      <td>677.020020</td>\n",
              "      <td>4</td>\n",
              "      <td>5</td>\n",
              "      <td>2021</td>\n",
              "    </tr>\n",
              "    <tr>\n",
              "      <th>2</th>\n",
              "      <td>12-04-2021</td>\n",
              "      <td>685.700012</td>\n",
              "      <td>780.789978</td>\n",
              "      <td>682.090027</td>\n",
              "      <td>739.780029</td>\n",
              "      <td>4</td>\n",
              "      <td>12</td>\n",
              "      <td>2021</td>\n",
              "    </tr>\n",
              "    <tr>\n",
              "      <th>3</th>\n",
              "      <td>19-04-2021</td>\n",
              "      <td>719.599976</td>\n",
              "      <td>753.770020</td>\n",
              "      <td>691.799988</td>\n",
              "      <td>729.400024</td>\n",
              "      <td>19</td>\n",
              "      <td>4</td>\n",
              "      <td>2021</td>\n",
              "    </tr>\n",
              "    <tr>\n",
              "      <th>4</th>\n",
              "      <td>26-04-2021</td>\n",
              "      <td>741.000000</td>\n",
              "      <td>749.299988</td>\n",
              "      <td>666.140015</td>\n",
              "      <td>709.440002</td>\n",
              "      <td>26</td>\n",
              "      <td>4</td>\n",
              "      <td>2021</td>\n",
              "    </tr>\n",
              "  </tbody>\n",
              "</table>\n",
              "</div>"
            ],
            "text/plain": [
              "         Date        Open        High         Low       Close  day  month  year\n",
              "0  29-03-2021  615.640015  692.419983  591.010010  661.750000   29      3  2021\n",
              "1  05-04-2021  707.710022  708.159973  667.840027  677.020020    4      5  2021\n",
              "2  12-04-2021  685.700012  780.789978  682.090027  739.780029    4     12  2021\n",
              "3  19-04-2021  719.599976  753.770020  691.799988  729.400024   19      4  2021\n",
              "4  26-04-2021  741.000000  749.299988  666.140015  709.440002   26      4  2021"
            ]
          },
          "metadata": {},
          "execution_count": 36
        }
      ]
    },
    {
      "cell_type": "markdown",
      "metadata": {
        "id": "MxtdtdPXa8it"
      },
      "source": [
        "# Exploratory Data Analysis Of Tesla_Stock_Data"
      ]
    },
    {
      "cell_type": "code",
      "metadata": {
        "colab": {
          "base_uri": "https://localhost:8080/",
          "height": 386
        },
        "id": "A4AFSdKRVPXY",
        "outputId": "1608ccb9-a794-4620-cf01-91c85e9724bb"
      },
      "source": [
        "sns.catplot(x = \"month\", y = \"High\", data = TSLA_df, kind = \"bar\", height = 5)"
      ],
      "execution_count": 37,
      "outputs": [
        {
          "output_type": "execute_result",
          "data": {
            "text/plain": [
              "<seaborn.axisgrid.FacetGrid at 0x7f1d95c3da10>"
            ]
          },
          "metadata": {},
          "execution_count": 37
        },
        {
          "output_type": "display_data",
          "data": {
            "image/png": "[encoded data removed]",
            "text/plain": [
              "<Figure size 360x360 with 1 Axes>"
            ]
          },
          "metadata": {
            "needs_background": "light"
          }
        }
      ]
    },
    {
      "cell_type": "markdown",
      "metadata": {
        "id": "f0Un99Dvb1vp"
      },
      "source": [
        "# Change in 'High' Values in past 6 months for Tesla"
      ]
    },
    {
      "cell_type": "code",
      "metadata": {
        "colab": {
          "base_uri": "https://localhost:8080/",
          "height": 282
        },
        "id": "claAhP5NVo7W",
        "outputId": "5cfa3efb-1c5f-474d-a6d7-fda03c36f371"
      },
      "source": [
        "plt.plot(TSLA_df.groupby('month')['High'].max())"
      ],
      "execution_count": 38,
      "outputs": [
        {
          "output_type": "execute_result",
          "data": {
            "text/plain": [
              "[<matplotlib.lines.Line2D at 0x7f1d957e77d0>]"
            ]
          },
          "metadata": {},
          "execution_count": 38
        },
        {
          "output_type": "display_data",
          "data": {
            "image/png": "[encoded data removed]",
            "text/plain": [
              "<Figure size 432x288 with 1 Axes>"
            ]
          },
          "metadata": {
            "needs_background": "light"
          }
        }
      ]
    },
    {
      "cell_type": "markdown",
      "metadata": {
        "id": "Trh56QVrci3P"
      },
      "source": [
        "# Change 'Low' Values in past 6 months for Tesla"
      ]
    },
    {
      "cell_type": "code",
      "metadata": {
        "colab": {
          "base_uri": "https://localhost:8080/",
          "height": 282
        },
        "id": "vfWqHIZhVvO9",
        "outputId": "4afc03ac-220a-4736-e53d-23903c19bc41"
      },
      "source": [
        "plt.plot(TSLA_df.groupby('month')['Low'].max())"
      ],
      "execution_count": 39,
      "outputs": [
        {
          "output_type": "execute_result",
          "data": {
            "text/plain": [
              "[<matplotlib.lines.Line2D at 0x7f1d95759b10>]"
            ]
          },
          "metadata": {},
          "execution_count": 39
        },
        {
          "output_type": "display_data",
          "data": {
            "image/png": "[encoded data removed]",
            "text/plain": [
              "<Figure size 432x288 with 1 Axes>"
            ]
          },
          "metadata": {
            "needs_background": "light"
          }
        }
      ]
    },
    {
      "cell_type": "markdown",
      "metadata": {
        "id": "5gF2xwgDZifE"
      },
      "source": [
        "# **Performing EDA on Microsoft_Stock_Data Of Last Six Months**"
      ]
    },
    {
      "cell_type": "code",
      "metadata": {
        "colab": {
          "base_uri": "https://localhost:8080/",
          "height": 203
        },
        "id": "dQzkJBSRUv7K",
        "outputId": "fe5f538d-a61f-492f-9b55-3d247e004859"
      },
      "source": [
        "MSFT_df = pd.read_csv('MSFT.csv')\n",
        "MSFT_df.head()"
      ],
      "execution_count": 40,
      "outputs": [
        {
          "output_type": "execute_result",
          "data": {
            "text/html": [
              "<div>\n",
              "<style scoped>\n",
              "    .dataframe tbody tr th:only-of-type {\n",
              "        vertical-align: middle;\n",
              "    }\n",
              "\n",
              "    .dataframe tbody tr th {\n",
              "        vertical-align: top;\n",
              "    }\n",
              "\n",
              "    .dataframe thead th {\n",
              "        text-align: right;\n",
              "    }\n",
              "</style>\n",
              "<table border=\"1\" class=\"dataframe\">\n",
              "  <thead>\n",
              "    <tr style=\"text-align: right;\">\n",
              "      <th></th>\n",
              "      <th>Date</th>\n",
              "      <th>Open</th>\n",
              "      <th>High</th>\n",
              "      <th>Low</th>\n",
              "      <th>Close</th>\n",
              "    </tr>\n",
              "  </thead>\n",
              "  <tbody>\n",
              "    <tr>\n",
              "      <th>0</th>\n",
              "      <td>29-03-2021</td>\n",
              "      <td>236.589996</td>\n",
              "      <td>242.839996</td>\n",
              "      <td>231.100006</td>\n",
              "      <td>242.350006</td>\n",
              "    </tr>\n",
              "    <tr>\n",
              "      <th>1</th>\n",
              "      <td>05-04-2021</td>\n",
              "      <td>242.759995</td>\n",
              "      <td>255.990005</td>\n",
              "      <td>242.699997</td>\n",
              "      <td>255.850006</td>\n",
              "    </tr>\n",
              "    <tr>\n",
              "      <th>2</th>\n",
              "      <td>12-04-2021</td>\n",
              "      <td>254.710007</td>\n",
              "      <td>261.000000</td>\n",
              "      <td>254.619995</td>\n",
              "      <td>260.739990</td>\n",
              "    </tr>\n",
              "    <tr>\n",
              "      <th>3</th>\n",
              "      <td>19-04-2021</td>\n",
              "      <td>260.190002</td>\n",
              "      <td>261.779999</td>\n",
              "      <td>255.639999</td>\n",
              "      <td>261.149994</td>\n",
              "    </tr>\n",
              "    <tr>\n",
              "      <th>4</th>\n",
              "      <td>26-04-2021</td>\n",
              "      <td>261.660004</td>\n",
              "      <td>263.190002</td>\n",
              "      <td>249.000000</td>\n",
              "      <td>252.179993</td>\n",
              "    </tr>\n",
              "  </tbody>\n",
              "</table>\n",
              "</div>"
            ],
            "text/plain": [
              "         Date        Open        High         Low       Close\n",
              "0  29-03-2021  236.589996  242.839996  231.100006  242.350006\n",
              "1  05-04-2021  242.759995  255.990005  242.699997  255.850006\n",
              "2  12-04-2021  254.710007  261.000000  254.619995  260.739990\n",
              "3  19-04-2021  260.190002  261.779999  255.639999  261.149994\n",
              "4  26-04-2021  261.660004  263.190002  249.000000  252.179993"
            ]
          },
          "metadata": {},
          "execution_count": 40
        }
      ]
    },
    {
      "cell_type": "code",
      "metadata": {
        "colab": {
          "base_uri": "https://localhost:8080/"
        },
        "id": "qO6sss6JU0L1",
        "outputId": "ae1cc3ed-95d7-4937-e7f6-73697102bb51"
      },
      "source": [
        "MSFT_df.info()"
      ],
      "execution_count": 41,
      "outputs": [
        {
          "output_type": "stream",
          "name": "stdout",
          "text": [
            "<class 'pandas.core.frame.DataFrame'>\n",
            "RangeIndex: 28 entries, 0 to 27\n",
            "Data columns (total 5 columns):\n",
            " #   Column  Non-Null Count  Dtype  \n",
            "---  ------  --------------  -----  \n",
            " 0   Date    28 non-null     object \n",
            " 1   Open    28 non-null     float64\n",
            " 2   High    28 non-null     float64\n",
            " 3   Low     28 non-null     float64\n",
            " 4   Close   28 non-null     float64\n",
            "dtypes: float64(4), object(1)\n",
            "memory usage: 1.2+ KB\n"
          ]
        }
      ]
    },
    {
      "cell_type": "code",
      "metadata": {
        "colab": {
          "base_uri": "https://localhost:8080/"
        },
        "id": "Lse5xfbbU7Ph",
        "outputId": "0c37995c-4644-4696-e5b2-94dda3ad2ffc"
      },
      "source": [
        "MSFT_df.dtypes"
      ],
      "execution_count": 42,
      "outputs": [
        {
          "output_type": "execute_result",
          "data": {
            "text/plain": [
              "Date      object\n",
              "Open     float64\n",
              "High     float64\n",
              "Low      float64\n",
              "Close    float64\n",
              "dtype: object"
            ]
          },
          "metadata": {},
          "execution_count": 42
        }
      ]
    },
    {
      "cell_type": "code",
      "metadata": {
        "colab": {
          "base_uri": "https://localhost:8080/"
        },
        "id": "wxeQ3cwXVBv1",
        "outputId": "6c178d6d-7dc1-4aca-a3af-afb5e06b7ae9"
      },
      "source": [
        "MSFT_df.count() "
      ],
      "execution_count": 43,
      "outputs": [
        {
          "output_type": "execute_result",
          "data": {
            "text/plain": [
              "Date     28\n",
              "Open     28\n",
              "High     28\n",
              "Low      28\n",
              "Close    28\n",
              "dtype: int64"
            ]
          },
          "metadata": {},
          "execution_count": 43
        }
      ]
    },
    {
      "cell_type": "markdown",
      "metadata": {
        "id": "4OhbNuqraDEl"
      },
      "source": [
        "# Splitting \"Date\" cloumn into (day,month,and year)"
      ]
    },
    {
      "cell_type": "code",
      "metadata": {
        "id": "Nz_sYMfPVJgk"
      },
      "source": [
        "MSFT_df[\"day\"] = MSFT_df['Date'].map(lambda x: pd.to_datetime(x).day)\n",
        "MSFT_df[\"month\"] =MSFT_df['Date'].map(lambda x: pd.to_datetime(x).month)\n",
        "MSFT_df[\"year\"] = MSFT_df['Date'].map(lambda x: pd.to_datetime(x).year)"
      ],
      "execution_count": 44,
      "outputs": []
    },
    {
      "cell_type": "code",
      "metadata": {
        "colab": {
          "base_uri": "https://localhost:8080/",
          "height": 203
        },
        "id": "sWEmOppNepOq",
        "outputId": "794c788a-94ff-4729-dc9c-3b77a4603ace"
      },
      "source": [
        "MSFT_df.head()"
      ],
      "execution_count": 45,
      "outputs": [
        {
          "output_type": "execute_result",
          "data": {
            "text/html": [
              "<div>\n",
              "<style scoped>\n",
              "    .dataframe tbody tr th:only-of-type {\n",
              "        vertical-align: middle;\n",
              "    }\n",
              "\n",
              "    .dataframe tbody tr th {\n",
              "        vertical-align: top;\n",
              "    }\n",
              "\n",
              "    .dataframe thead th {\n",
              "        text-align: right;\n",
              "    }\n",
              "</style>\n",
              "<table border=\"1\" class=\"dataframe\">\n",
              "  <thead>\n",
              "    <tr style=\"text-align: right;\">\n",
              "      <th></th>\n",
              "      <th>Date</th>\n",
              "      <th>Open</th>\n",
              "      <th>High</th>\n",
              "      <th>Low</th>\n",
              "      <th>Close</th>\n",
              "      <th>day</th>\n",
              "      <th>month</th>\n",
              "      <th>year</th>\n",
              "    </tr>\n",
              "  </thead>\n",
              "  <tbody>\n",
              "    <tr>\n",
              "      <th>0</th>\n",
              "      <td>29-03-2021</td>\n",
              "      <td>236.589996</td>\n",
              "      <td>242.839996</td>\n",
              "      <td>231.100006</td>\n",
              "      <td>242.350006</td>\n",
              "      <td>29</td>\n",
              "      <td>3</td>\n",
              "      <td>2021</td>\n",
              "    </tr>\n",
              "    <tr>\n",
              "      <th>1</th>\n",
              "      <td>05-04-2021</td>\n",
              "      <td>242.759995</td>\n",
              "      <td>255.990005</td>\n",
              "      <td>242.699997</td>\n",
              "      <td>255.850006</td>\n",
              "      <td>4</td>\n",
              "      <td>5</td>\n",
              "      <td>2021</td>\n",
              "    </tr>\n",
              "    <tr>\n",
              "      <th>2</th>\n",
              "      <td>12-04-2021</td>\n",
              "      <td>254.710007</td>\n",
              "      <td>261.000000</td>\n",
              "      <td>254.619995</td>\n",
              "      <td>260.739990</td>\n",
              "      <td>4</td>\n",
              "      <td>12</td>\n",
              "      <td>2021</td>\n",
              "    </tr>\n",
              "    <tr>\n",
              "      <th>3</th>\n",
              "      <td>19-04-2021</td>\n",
              "      <td>260.190002</td>\n",
              "      <td>261.779999</td>\n",
              "      <td>255.639999</td>\n",
              "      <td>261.149994</td>\n",
              "      <td>19</td>\n",
              "      <td>4</td>\n",
              "      <td>2021</td>\n",
              "    </tr>\n",
              "    <tr>\n",
              "      <th>4</th>\n",
              "      <td>26-04-2021</td>\n",
              "      <td>261.660004</td>\n",
              "      <td>263.190002</td>\n",
              "      <td>249.000000</td>\n",
              "      <td>252.179993</td>\n",
              "      <td>26</td>\n",
              "      <td>4</td>\n",
              "      <td>2021</td>\n",
              "    </tr>\n",
              "  </tbody>\n",
              "</table>\n",
              "</div>"
            ],
            "text/plain": [
              "         Date        Open        High         Low       Close  day  month  year\n",
              "0  29-03-2021  236.589996  242.839996  231.100006  242.350006   29      3  2021\n",
              "1  05-04-2021  242.759995  255.990005  242.699997  255.850006    4      5  2021\n",
              "2  12-04-2021  254.710007  261.000000  254.619995  260.739990    4     12  2021\n",
              "3  19-04-2021  260.190002  261.779999  255.639999  261.149994   19      4  2021\n",
              "4  26-04-2021  261.660004  263.190002  249.000000  252.179993   26      4  2021"
            ]
          },
          "metadata": {},
          "execution_count": 45
        }
      ]
    },
    {
      "cell_type": "markdown",
      "metadata": {
        "id": "olYQTyAvbGKe"
      },
      "source": [
        "# Exploratory Data Analysis Of Microsoft_Stock_Data"
      ]
    },
    {
      "cell_type": "code",
      "metadata": {
        "colab": {
          "base_uri": "https://localhost:8080/",
          "height": 386
        },
        "id": "AqDln2nRVPlS",
        "outputId": "687d200d-64a5-4ea2-f513-b7684b583b2a"
      },
      "source": [
        "sns.catplot(x = \"month\", y = \"High\", data = MSFT_df, kind = \"bar\", height = 5)"
      ],
      "execution_count": 46,
      "outputs": [
        {
          "output_type": "execute_result",
          "data": {
            "text/plain": [
              "<seaborn.axisgrid.FacetGrid at 0x7f1d9571ed50>"
            ]
          },
          "metadata": {},
          "execution_count": 46
        },
        {
          "output_type": "display_data",
          "data": {
            "image/png": "[encoded data removed]",
            "text/plain": [
              "<Figure size 360x360 with 1 Axes>"
            ]
          },
          "metadata": {
            "needs_background": "light"
          }
        }
      ]
    },
    {
      "cell_type": "markdown",
      "metadata": {
        "id": "uHpoIBARb9NF"
      },
      "source": [
        "# Change in 'High' Values in past 6 months for Microsoft"
      ]
    },
    {
      "cell_type": "code",
      "metadata": {
        "colab": {
          "base_uri": "https://localhost:8080/",
          "height": 282
        },
        "id": "GK75GHNqVpLb",
        "outputId": "60c5854f-3542-4f6c-fd80-09a7d8b406f1"
      },
      "source": [
        "plt.plot(MSFT_df.groupby('month')['High'].max())"
      ],
      "execution_count": 47,
      "outputs": [
        {
          "output_type": "execute_result",
          "data": {
            "text/plain": [
              "[<matplotlib.lines.Line2D at 0x7f1d95676b90>]"
            ]
          },
          "metadata": {},
          "execution_count": 47
        },
        {
          "output_type": "display_data",
          "data": {
            "image/png": "[encoded data removed]",
            "text/plain": [
              "<Figure size 432x288 with 1 Axes>"
            ]
          },
          "metadata": {
            "needs_background": "light"
          }
        }
      ]
    },
    {
      "cell_type": "markdown",
      "metadata": {
        "id": "RcUFpBezcnyt"
      },
      "source": [
        "# Change 'Low' Values in past 6 months for Microsoft"
      ]
    },
    {
      "cell_type": "code",
      "metadata": {
        "colab": {
          "base_uri": "https://localhost:8080/",
          "height": 282
        },
        "id": "gvC6HKLqVvcG",
        "outputId": "925c39bc-2a8e-4959-811d-a2c057e36a05"
      },
      "source": [
        "plt.plot(MSFT_df.groupby('month')['Low'].max())"
      ],
      "execution_count": 48,
      "outputs": [
        {
          "output_type": "execute_result",
          "data": {
            "text/plain": [
              "[<matplotlib.lines.Line2D at 0x7f1d955def50>]"
            ]
          },
          "metadata": {},
          "execution_count": 48
        },
        {
          "output_type": "display_data",
          "data": {
            "image/png": "[encoded data removed]",
            "text/plain": [
              "<Figure size 432x288 with 1 Axes>"
            ]
          },
          "metadata": {
            "needs_background": "light"
          }
        }
      ]
    }
  ]
}